{
 "cells": [
  {
   "cell_type": "markdown",
   "metadata": {},
   "source": [
    "4865. [기본] 3일차 - 글자수 (제출용) D1"
   ]
  },
  {
   "cell_type": "markdown",
   "metadata": {},
   "source": [
    "두 개의 문자열 str1과 str2가 주어진다. 문자열 str1에 포함된 글자들이 str2에 몇 개씩 들어있는지 찾고, 그중 가장 많은 글자의 개수를 출력하는 프로그램을 만드시오.\n",
    "\n",
    "예를 들어 str1 = “ABCA”, str2 = “ABABCA”인 경우, str1의 A가 str2에 3개 있으므로 가장 많은 글자가 되고 3을 출력한다.\n",
    "\n",
    "파이썬의 경우 딕셔너리를 이용할 수 있다"
   ]
  },
  {
   "cell_type": "code",
   "execution_count": null,
   "metadata": {},
   "outputs": [],
   "source": [
    "tc = int(input())\n",
    "for t in range(1, tc+1):\n",
    "    str1 = list(input()) # str1 입력\n",
    "    str2 = list(input()) # str2 입력\n",
    " \n",
    "    counts = [0] * (ord('Z')-ord('A')+1)# str2에 str1의 글자가 몇개나 있는지 카운트\n",
    " \n",
    "    for s1 in str1:\n",
    "        cnt = 0\n",
    "        for s2 in str2:\n",
    "            if ord(s1) == ord(s2): \n",
    "               cnt += 1 # 개수 세기\n",
    "            counts[ord(s1) % 65] = cnt # A~Z까지 담을 수 있는 counts 리스트에 위치에 맞게 넣어주기 \n",
    " \n",
    "    max_v = counts[0]\n",
    "    for c in counts:\n",
    "        if c > max_v:\n",
    "            max_v = c\n",
    " \n",
    "    print(f\"#{t} {max_v}\")"
   ]
  },
  {
   "cell_type": "code",
   "execution_count": null,
   "metadata": {},
   "outputs": [],
   "source": [
    "tc = int(input())\n",
    "for t in range(1, tc+1):\n",
    "    str1 = list(input()) # str1 입력\n",
    "    str2 = list(input()) # str2 입력\n",
    " \n",
    " \n",
    "    max_v = 0\n",
    "    for s1 in str1:\n",
    "        cnt = 0\n",
    "        for s2 in str2:\n",
    "            if ord(s1) == ord(s2):\n",
    "                cnt += 1 # 개수 세기\n",
    "        if cnt > max_v:\n",
    "            max_v = cnt # 최댓값 찾기\n",
    " \n",
    "    print(f\"#{t} {max_v}\")"
   ]
  },
  {
   "cell_type": "code",
   "execution_count": null,
   "metadata": {},
   "outputs": [],
   "source": [
    "# 입력\n",
    "'''\n",
    "3\n",
    "XYPV\n",
    "EOGGXYPVSY\n",
    "STJJ\n",
    "HOFSTJPVPP\n",
    "ZYJZXZTIBSDG\n",
    "TTXGZYJZXZTIBSDGWQLW\n",
    "'''\n",
    "# 출력\n",
    "'''\n",
    "#1 2\n",
    "#2 1\n",
    "#3 3\n",
    "'''"
   ]
  }
 ],
 "metadata": {
  "language_info": {
   "name": "python"
  }
 },
 "nbformat": 4,
 "nbformat_minor": 2
}
