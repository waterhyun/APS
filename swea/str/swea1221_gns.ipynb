{
 "cells": [
  {
   "cell_type": "markdown",
   "metadata": {},
   "source": [
    "[S/W 문제해결 기본] 5일차 - GNS D3"
   ]
  },
  {
   "cell_type": "markdown",
   "metadata": {},
   "source": [
    "숫자 체계가 우리와 다른 어느 행성이 있다. 아래는 이 행성에서 사용하는 0 ~ 9의 값을 순서대로 나타낸 것이다.\n",
    "\n",
    "\"ZRO\", \"ONE\", \"TWO\", \"THR\", \"FOR\", \"FIV\", \"SIX\", \"SVN\", \"EGT\", \"NIN\"\n",
    "\n",
    "0 ~ 9 의 값을 나타내는 단어가 섞여 있는 문자열을 받아 작은 수부터 차례로 정렬하여 출력하는 프로그램을 작성하라.\n",
    "\n",
    "예를 들어 입력 문자열이 \"TWO NIN TWO TWO FIV FOR\" 일 경우 정렬한 문자열은 \"TWO TWO TWO FOR FIV NIN\" 이 된다."
   ]
  },
  {
   "cell_type": "code",
   "execution_count": null,
   "metadata": {},
   "outputs": [],
   "source": [
    "number_set = {0:\"ZRO\", 1:\"ONE\", 2:\"TWO\", 3:\"THR\", 4:\"FOR\",\n",
    "              5:\"FIV\", 6:\"SIX\", 7:\"SVN\", 8:\"EGT\", 9:\"NIN\"}\n",
    " \n",
    "tc = int(input())\n",
    "for t in range(1, tc+1):\n",
    "    n = int(input().split()[1])\n",
    "    number_list = list(input().split())\n",
    " \n",
    "    counts = [0] * 10\n",
    "    for number in number_list:\n",
    "        for k, v in number_set.items():\n",
    "            if v == number:\n",
    "                counts[k] += 1 \n",
    " \n",
    "    output = [0] * n\n",
    "    idx = -1\n",
    "    for i in range(10):\n",
    "        if counts[i] == 0:\n",
    "            continue\n",
    "        for j in range(counts[i]):\n",
    "            idx += 1\n",
    "            output[idx] = number_set[i]\n",
    " \n",
    "    print(f'#{t}')\n",
    "    print(*output)"
   ]
  },
  {
   "cell_type": "code",
   "execution_count": null,
   "metadata": {},
   "outputs": [],
   "source": [
    "number_set = {0:\"ZRO\", 1:\"ONE\", 2:\"TWO\", 3:\"THR\", 4:\"FOR\",\n",
    "              5:\"FIV\", 6:\"SIX\", 7:\"SVN\", 8:\"EGT\", 9:\"NIN\"}\n",
    " \n",
    "tc = int(input())\n",
    "for t in range(1, tc+1):\n",
    "    n = int(input().split()[1])\n",
    "    number_list = list(input().split())\n",
    " \n",
    "    counts = [0] * 10\n",
    "    for number in number_list:\n",
    "        for k, v in number_set.items():\n",
    "            if v == number:\n",
    "                counts[k] += 1\n",
    " \n",
    "    print(f'#{t}')\n",
    "    print(' '.join(number_set[i] for i in range(10) for _ in range(counts[i])))\n",
    " \n",
    "    # output = []\n",
    "    # for i in range(10):\n",
    "    #     if counts[i] > 0:\n",
    "    #         output.extend([number_set[i]]*counts[i])\n",
    " \n",
    "    # print(f'#{t}')\n",
    "    # print(*output)"
   ]
  }
 ],
 "metadata": {
  "language_info": {
   "name": "python"
  }
 },
 "nbformat": 4,
 "nbformat_minor": 2
}
