{
 "cells": [
  {
   "cell_type": "markdown",
   "metadata": {},
   "source": [
    "4864. 3일차 - 문자열 비교 (제출용) D1"
   ]
  },
  {
   "cell_type": "markdown",
   "metadata": {},
   "source": [
    "두 개의 문자열 str1과 str2가 주어진다. 문자열 str2 안에 str1과 일치하는 부분이 있는지 찾는 프로그램을 만드시오.\n",
    "\n",
    "예를 들어 두 개의 문자열이 다음과 같이 주어질 때, 첫 문자열이 두번째에 존재하면 1, 존재하지 않으면 0을 출력한다.\n",
    " \n",
    "\n",
    "ABC\n",
    "\n",
    "ZZZZZABCZZZZZ\n",
    "\n",
    "두번째 문자열에 첫번째 문자열과 일치하는 부분이 있으므로 1을 출력.\n",
    " \n",
    "\n",
    "ABC\n",
    "\n",
    "ZZZZAZBCZZZZZ\n",
    "\n",
    "문자열이 일치하지 않으므로 0을 출력"
   ]
  },
  {
   "cell_type": "code",
   "execution_count": null,
   "metadata": {},
   "outputs": [],
   "source": [
    "tc = int(input())\n",
    "for t in range(1, tc+1):\n",
    "    str1 = list(input()) # str1 입력\n",
    "    str2 = list(input()) # str2 입력\n",
    "    n = len(str1) # str1 길이\n",
    "    cnt = 0 # str2에 str1이 있는지 길이로 판단\n",
    "    for j in range(len(str2)-n+1):\n",
    "        cnt_temp = 0 # 임시 - 중간까지만 일치할 수 있어서 설정\n",
    "        for i in range(n):\n",
    "            if (0 < j+i < len(str2)) and (str1[i] == str2[j+i]):\n",
    "                cnt_temp += 1\n",
    "            if cnt < cnt_temp: # 가장 큰 길이를 cnt에 저장\n",
    "                cnt = cnt_temp\n",
    " \n",
    "    if cnt == n:\n",
    "        print(f'#{t} 1') \n",
    "    else:\n",
    "        print(f'#{t} 0')"
   ]
  },
  {
   "cell_type": "code",
   "execution_count": null,
   "metadata": {},
   "outputs": [],
   "source": [
    "tc = int(input())\n",
    "for t in range(1, tc+1):\n",
    "    str1 = list(input()) # str1 입력\n",
    "    str2 = list(input()) # str2 입력\n",
    "    result = 0\n",
    "    for i in range(len(str2)-len(str1)+1):\n",
    "        if str2[i : i+len(str1)] == str1:\n",
    "            result = 1\n",
    " \n",
    "    print(f'#{t} {result}')"
   ]
  },
  {
   "cell_type": "code",
   "execution_count": null,
   "metadata": {},
   "outputs": [],
   "source": [
    "# 입력\n",
    "'''\n",
    "3\n",
    "XYPV\n",
    "EOGGXYPVSY\n",
    "STJJ\n",
    "HOFSTJPVPP\n",
    "ZYJZXZTIBSDG\n",
    "TTXGZYJZXZTIBSDGWQLW\n",
    "'''\n",
    "# 출력\n",
    "'''\n",
    "#1 1\n",
    "#2 0\n",
    "#3 1\n",
    "'''"
   ]
  }
 ],
 "metadata": {
  "kernelspec": {
   "display_name": "Python 3",
   "language": "python",
   "name": "python3"
  },
  "language_info": {
   "codemirror_mode": {
    "name": "ipython",
    "version": 3
   },
   "file_extension": ".py",
   "mimetype": "text/x-python",
   "name": "python",
   "nbconvert_exporter": "python",
   "pygments_lexer": "ipython3",
   "version": "3.9.13"
  }
 },
 "nbformat": 4,
 "nbformat_minor": 2
}
