{
 "cells": [
  {
   "cell_type": "markdown",
   "metadata": {},
   "source": [
    "연속한 1의 개수 D1"
   ]
  },
  {
   "cell_type": "markdown",
   "metadata": {},
   "source": [
    "N개의 0과 1로 이루어진 수열에서 연속한 1의 개수 중 최대값을 출력하는 프로그램을 만드시오."
   ]
  },
  {
   "cell_type": "code",
   "execution_count": 2,
   "metadata": {},
   "outputs": [
    {
     "name": "stdout",
     "output_type": "stream",
     "text": [
      "#1 3\n",
      "#2 1\n",
      "#3 4\n"
     ]
    }
   ],
   "source": [
    "tc = int(input())\n",
    "for t in range(1, tc+1):\n",
    "    n = int(input())\n",
    "    number = input().split('0')\n",
    "    result = 0\n",
    "    for num in number:\n",
    "        cnt = 0\n",
    "        if num != '':\n",
    "            for n in num:\n",
    "                cnt += 1\n",
    "        if cnt > result:\n",
    "            result = cnt\n",
    " \n",
    "    print(f'#{t} {result}')"
   ]
  }
 ],
 "metadata": {
  "kernelspec": {
   "display_name": "Python 3",
   "language": "python",
   "name": "python3"
  },
  "language_info": {
   "codemirror_mode": {
    "name": "ipython",
    "version": 3
   },
   "file_extension": ".py",
   "mimetype": "text/x-python",
   "name": "python",
   "nbconvert_exporter": "python",
   "pygments_lexer": "ipython3",
   "version": "3.9.13"
  }
 },
 "nbformat": 4,
 "nbformat_minor": 2
}
