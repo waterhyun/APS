{
 "cells": [
  {
   "cell_type": "markdown",
   "metadata": {},
   "source": [
    "삼성시의 버스 노선 D3"
   ]
  },
  {
   "cell_type": "markdown",
   "metadata": {},
   "source": [
    "삼성시에 있는 5,000개의 버스 정류장은 관리의 편의를 위해 1에서 5,000까지 번호가 붙어 있다.\n",
    "\n",
    "그리고 버스 노선은 N개가 있는데, i번째 버스 노선은 번호가 Ai이상이고,\n",
    "\n",
    "Bi이하인 모든 정류장만을 다니는 버스 노선이다.\n",
    "\n",
    "P개의 버스 정류장에 대해 각 정류장에 몇 개의 버스 노선이 다니는지 구하는 프로그램을 작성하라."
   ]
  },
  {
   "cell_type": "code",
   "execution_count": 1,
   "metadata": {},
   "outputs": [
    {
     "name": "stdout",
     "output_type": "stream",
     "text": [
      "#1 1 2 2 1 1\n"
     ]
    }
   ],
   "source": [
    "tc = int(input()) # 테스트 케이스\n",
    "for t in range(1, tc+1):\n",
    "    n = int(input()) # 버스 개수\n",
    "    atob_list = [0] * n\n",
    " \n",
    "    for i in range(n):\n",
    "        a, b = map(int, input().split())\n",
    "        atob_list[i] = (a,b) # 범위 저장\n",
    " \n",
    "    p = int(input()) # p개의 버스 정류장 (P는 1~5000개의 번호를 가지고 있음)\n",
    "    max_stop = 5000 # 최대 버스 정류장 번호\n",
    "    stops = [0] * p # 만약 p가 5라면 5개의 정류장을 살펴 볼 것\n",
    " \n",
    "    for i in range(p):\n",
    "        # stops = cj 목록, 출력할 버스 정류장 목록\n",
    "        stops[i] = int(input()) # 꼭 순서대로 나오는 게 아님\n",
    " \n",
    "    counts = [0] * (max_stop + 1) # 범위에 따라 몇 번 지나가는 지 계산\n",
    "    for a, b in atob_list:\n",
    "        for j in range(a, b+1):\n",
    "            counts[j] += 1\n",
    "            # 예를 들어 a = 1, b = 3일때 1~3까지의 버스 정류장을 다니니깐 1로 처리\n",
    " \n",
    "    print(f'#{t}', end = ' ')\n",
    "    results = [str(counts[c]) for c in stops]\n",
    "    print(' '.join(results))"
   ]
  },
  {
   "cell_type": "code",
   "execution_count": null,
   "metadata": {},
   "outputs": [],
   "source": []
  }
 ],
 "metadata": {
  "kernelspec": {
   "display_name": "Python 3",
   "language": "python",
   "name": "python3"
  },
  "language_info": {
   "codemirror_mode": {
    "name": "ipython",
    "version": 3
   },
   "file_extension": ".py",
   "mimetype": "text/x-python",
   "name": "python",
   "nbconvert_exporter": "python",
   "pygments_lexer": "ipython3",
   "version": "3.9.13"
  }
 },
 "nbformat": 4,
 "nbformat_minor": 2
}
