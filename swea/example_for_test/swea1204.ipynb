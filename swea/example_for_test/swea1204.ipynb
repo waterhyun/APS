{
 "cells": [
  {
   "cell_type": "markdown",
   "metadata": {},
   "source": [
    "[S/W 문제해결 기본] 1일차 - 최빈수 구하기 D2"
   ]
  },
  {
   "cell_type": "markdown",
   "metadata": {},
   "source": [
    "어느 고등학교에서 실시한 1000명의 수학 성적을 토대로 통계 자료를 만들려고 한다.\n",
    "\n",
    "이때, 이 학교에서는 최빈수를 이용하여 학생들의 평균 수준을 짐작하는데, 여기서 최빈수는 특정 자료에서 가장 여러 번 나타나는 값을 의미한다.\n",
    "\n",
    "다음과 같은 수 분포가 있으면,\n",
    "\n",
    "10, 8, 7, 2, 2, 4, 8, 8, 8, 9, 5, 5, 3\n",
    "\n",
    "최빈수는 8이 된다.\n",
    "\n",
    "최빈수를 출력하는 프로그램을 작성하여라 (단, 최빈수가 여러 개 일 때에는 가장 큰 점수를 출력하라)."
   ]
  },
  {
   "cell_type": "code",
   "execution_count": 1,
   "metadata": {},
   "outputs": [
    {
     "name": "stdout",
     "output_type": "stream",
     "text": [
      "#1 71\n"
     ]
    }
   ],
   "source": [
    "tc = int(input())\n",
    "for t in range(1, tc+1):\n",
    "    _ = int(input())\n",
    "    counts = [0] * 101 # 성적에 따른 학생 수 입력 리스트\n",
    "    score_list = list(map(int, input().split()))\n",
    " \n",
    "    # 초기화\n",
    "    max_value = 0\n",
    "    mode_score = 0\n",
    " \n",
    "    for score in score_list:\n",
    "        counts[score] += 1 # 점수에 따라 인원수 += 1\n",
    "        if counts[score] >= max_value: # 학생이 많은 값 선별\n",
    "            max_value = counts[score]\n",
    "            mode_score = score\n",
    " \n",
    "    print(f'#{t} {mode_score}')"
   ]
  }
 ],
 "metadata": {
  "kernelspec": {
   "display_name": "Python 3",
   "language": "python",
   "name": "python3"
  },
  "language_info": {
   "codemirror_mode": {
    "name": "ipython",
    "version": 3
   },
   "file_extension": ".py",
   "mimetype": "text/x-python",
   "name": "python",
   "nbconvert_exporter": "python",
   "pygments_lexer": "ipython3",
   "version": "3.9.13"
  }
 },
 "nbformat": 4,
 "nbformat_minor": 2
}
