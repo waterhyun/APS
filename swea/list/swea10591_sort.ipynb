{
 "cells": [
  {
   "cell_type": "markdown",
   "metadata": {},
   "source": [
    "4839. 이진탐색 (제출용)  \n",
    "난이도 : D2"
   ]
  },
  {
   "cell_type": "markdown",
   "metadata": {},
   "source": [
    "코딩반 학생들에게 이진 탐색을 설명하던 선생님은 이진탐색을 연습할 수 있는 게임을 시켜 보기로 했다.\n",
    "\n",
    "짝을 이룬 A, B 두 사람에게 교과서에서 각자 찾을 쪽 번호를 알려주면, 이진 탐색만으로 지정된 페이지를 먼저 펼치는 사람이 이기는 게임이다.\n",
    "\n",
    "예를 들어 책이 총 400쪽이면, 검색 구간의 왼쪽 l=1, 오른쪽 r=400이 되고, 중간 페이지 c= int((l+r)/2)로 계산한다.\n",
    "\n",
    "찾는 쪽 번호가 c와 같아지면 탐색을 끝낸다.\n",
    "\n",
    "A는 300, B는 50 쪽을 찾아야 하는 경우, 다음처럼 중간 페이지를 기준으로 왼쪽 또는 오른 쪽 영역의 중간 페이지를 다시 찾아가면 된다."
   ]
  },
  {
   "cell_type": "code",
   "execution_count": 1,
   "metadata": {},
   "outputs": [
    {
     "name": "stdout",
     "output_type": "stream",
     "text": [
      "#1 A\n",
      "#2 0\n",
      "#3 A\n"
     ]
    }
   ],
   "source": [
    "# p, a, b\n",
    "# 전체 쪽 수 = p\n",
    "# a가 찾을 쪽 = a\n",
    "# b가 찾을 쪽 = b\n",
    " \n",
    "def binary_search(arr, n, target):\n",
    "    start = 1\n",
    "    end = n\n",
    "    cnt = 0\n",
    "    while start <= end:\n",
    "        cnt += 1\n",
    "        middle = (start+end)//2\n",
    "        # print(f'start: {start}, end: {end}, middle: {middle}')\n",
    "        if arr[middle] == target:\n",
    "            break\n",
    "        elif target < arr[middle]:\n",
    "            end = middle\n",
    "        else:\n",
    "            start = middle\n",
    "    # print(f'cnt: {cnt}')\n",
    "    return cnt\n",
    " \n",
    "tc = int(input())\n",
    "for t in range(1, tc+1):\n",
    "    p, a, b = map(int, input().split())\n",
    "    arr = list(range(p+1))\n",
    "    cnt_a = binary_search(arr, p, a)\n",
    "    cnt_b = binary_search(arr, p, b)\n",
    " \n",
    "    if cnt_a > cnt_b:\n",
    "        winner = 'B'\n",
    "    elif cnt_a < cnt_b:\n",
    "        winner = 'A'\n",
    "    else:\n",
    "        winner = 0\n",
    " \n",
    "    print(f'#{t} {winner}')"
   ]
  },
  {
   "cell_type": "code",
   "execution_count": null,
   "metadata": {},
   "outputs": [],
   "source": [
    "# 입력\n",
    "'''\n",
    "3\n",
    "400 300 350\n",
    "1000 299 578\n",
    "1000 222 888\n",
    "'''\n",
    "\n",
    "# 출력\n",
    "'''\n",
    "#1 A\n",
    "#2 0\n",
    "#3 A\n",
    "'''"
   ]
  }
 ],
 "metadata": {
  "kernelspec": {
   "display_name": "Python 3",
   "language": "python",
   "name": "python3"
  },
  "language_info": {
   "codemirror_mode": {
    "name": "ipython",
    "version": 3
   },
   "file_extension": ".py",
   "mimetype": "text/x-python",
   "name": "python",
   "nbconvert_exporter": "python",
   "pygments_lexer": "ipython3",
   "version": "3.9.13"
  }
 },
 "nbformat": 4,
 "nbformat_minor": 2
}
