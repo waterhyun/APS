{
 "cells": [
  {
   "cell_type": "markdown",
   "metadata": {},
   "source": [
    "4828. 1일차 - min max (제출용) D2"
   ]
  },
  {
   "cell_type": "markdown",
   "metadata": {},
   "source": [
    "N개의 양의 정수에서 가장 큰 수와 가장 작은 수의 차이를 출력하시오."
   ]
  },
  {
   "cell_type": "code",
   "execution_count": null,
   "metadata": {},
   "outputs": [],
   "source": [
    "T = int(input())\n",
    "ind = 1\n",
    "while T > 0:\n",
    "    N = int(input())\n",
    "    number_list = list(map(int, input().split()))\n",
    "    max_value = number_list[0]\n",
    "    min_value = number_list[0]\n",
    " \n",
    "    for number in number_list:\n",
    "        if max_value < number:\n",
    "            max_value = number\n",
    "        if min_value > number:\n",
    "            min_value = number\n",
    " \n",
    "    result = max_value - min_value\n",
    "    print(f'#{ind} {result}')\n",
    "    ind += 1\n",
    "    T -= 1"
   ]
  },
  {
   "cell_type": "code",
   "execution_count": null,
   "metadata": {},
   "outputs": [],
   "source": [
    "# 입력\n",
    "'''\n",
    "3\n",
    "5\n",
    "477162 658880 751280 927930 297191\n",
    "5\n",
    "565469 851600 460874 148692 111090\n",
    "10\n",
    "784386 279993 982220 996285 614710 992232 195265 359810 919192 158175\n",
    "'''\n",
    "# 출력\n",
    "'''\n",
    "#1 630739\n",
    "#2 740510\n",
    "#3 838110\n",
    "'''"
   ]
  }
 ],
 "metadata": {
  "language_info": {
   "name": "python"
  }
 },
 "nbformat": 4,
 "nbformat_minor": 2
}
