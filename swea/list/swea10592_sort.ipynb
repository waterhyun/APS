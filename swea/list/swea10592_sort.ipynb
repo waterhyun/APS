{
 "cells": [
  {
   "cell_type": "markdown",
   "metadata": {},
   "source": [
    "4843. [파이썬 S/W 문제해결 기본] 2일차 - 특별한 정렬   \n",
    "난이도 : D3"
   ]
  },
  {
   "cell_type": "markdown",
   "metadata": {},
   "source": [
    "보통의 정렬은 오름차순이나 내림차순으로 이루어지지만, 이번에는 특별한 정렬을 하려고 한다.\n",
    "\n",
    "N개의 정수가 주어지면 가장 큰 수, 가장 작은 수, 2번째 큰 수, 2번째 작은 수 식으로 큰 수와 작은 수를 번갈아 정렬하는 방법이다.\n",
    "\n",
    "예를 들어 1부터 10까지 10개의 숫자가 주어지면 다음과 같이 정렬한다.\n",
    " \n",
    "\n",
    "10 1 9 2 8 3 7 4 6 5\n",
    " \n",
    "\n",
    "주어진 숫자에 대해 특별한 정렬을 한 결과를 10개까지 출력하시오"
   ]
  },
  {
   "cell_type": "code",
   "execution_count": 2,
   "metadata": {},
   "outputs": [
    {
     "name": "stdout",
     "output_type": "stream",
     "text": [
      "#1 10 1 9 2 8 3 7 4 6 5\n",
      "#2 89 8 85 11 67 16 60 28 49 39\n",
      "#3 98 3 97 9 88 17 75 18 71 21\n"
     ]
    }
   ],
   "source": [
    "# 기준 위치에서 최솟값과 최대 값을 찾으면?\n",
    "def special_sort(arr, n):\n",
    "    for i in range(10):\n",
    "        idx = i\n",
    "        # 짝수 위치\n",
    "        if idx % 2 == 0:\n",
    "            for j in range(i+1, n):\n",
    "                if arr[j] > arr[idx]: # 최대값 구하기\n",
    "                    idx = j\n",
    "            arr[i], arr[idx] = arr[idx], arr[i]\n",
    "            continue\n",
    "        # 홀수 위치\n",
    "        if idx % 2 != 0:\n",
    "            for j in range(i+1, n):\n",
    "                if arr[j] < arr[idx]: # 최솟값 구하기\n",
    "                    idx = j\n",
    "            arr[i], arr[idx] = arr[idx], arr[i]\n",
    "            continue\n",
    " \n",
    "    arr = arr[0:10]\n",
    "    return arr\n",
    " \n",
    "tc = int(input())\n",
    "for t in range(1, tc+1):\n",
    "    n = int(input())\n",
    "    arr = list(map(int, input().split()))\n",
    "    result = special_sort(arr, n)\n",
    "    print(f'#{t} {\" \".join(map(str,result))}')"
   ]
  },
  {
   "cell_type": "code",
   "execution_count": null,
   "metadata": {},
   "outputs": [],
   "source": [
    "# 기준 위치에서 최솟값과 최댓값을 찾기\n",
    "def special_sort(arr, n):\n",
    "    for i in range(10):\n",
    "        idx = i\n",
    "        if idx % 2 == 0:\n",
    "            for j in range(i+1, n):\n",
    "                if arr[j] > arr[idx]: # 최댓값 찾기\n",
    "                    idx = j\n",
    "            arr[i], arr[idx] = arr[idx], arr[i]\n",
    "            continue\n",
    "        if idx % 2 != 0:\n",
    "            for j in range(i+1, n):\n",
    "                if arr[j] < arr[idx]: # 최솟값 찾기\n",
    "                    idx = j\n",
    "            arr[i], arr[idx] = arr[idx], arr[i]\n",
    "            continue\n",
    " \n",
    "    arr = arr[0:10]\n",
    "    return arr\n",
    " \n",
    "tc = int(input())\n",
    "for t in range(1, tc+1):\n",
    "    n = int(input())\n",
    "    arr = list(map(int, input().split()))\n",
    "    result = special_sort(arr, n)\n",
    "    print(f'#{t} {\" \".join(map(str,result))}')"
   ]
  },
  {
   "cell_type": "code",
   "execution_count": 1,
   "metadata": {},
   "outputs": [
    {
     "data": {
      "text/plain": [
       "'\\n3\\n10\\n1 2 3 4 5 6 7 8 9 10\\n10\\n67 39 16 49 60 28 8 85 89 11 \\n20\\n3 69 21 46 43 60 62 97 64 30 17 88 18 98 71 75 59 36 9 26 \\n'"
      ]
     },
     "execution_count": 1,
     "metadata": {},
     "output_type": "execute_result"
    }
   ],
   "source": [
    "# 입력\n",
    "'''\n",
    "3\n",
    "10\n",
    "1 2 3 4 5 6 7 8 9 10\n",
    "10\n",
    "67 39 16 49 60 28 8 85 89 11 \n",
    "20\n",
    "3 69 21 46 43 60 62 97 64 30 17 88 18 98 71 75 59 36 9 26 \n",
    "'''"
   ]
  }
 ],
 "metadata": {
  "kernelspec": {
   "display_name": "Python 3",
   "language": "python",
   "name": "python3"
  },
  "language_info": {
   "codemirror_mode": {
    "name": "ipython",
    "version": 3
   },
   "file_extension": ".py",
   "mimetype": "text/x-python",
   "name": "python",
   "nbconvert_exporter": "python",
   "pygments_lexer": "ipython3",
   "version": "3.9.13"
  }
 },
 "nbformat": 4,
 "nbformat_minor": 2
}
