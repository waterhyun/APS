{
 "cells": [
  {
   "cell_type": "markdown",
   "metadata": {},
   "source": [
    "4835. 1일차 - 구간합 (제출용) D2"
   ]
  },
  {
   "cell_type": "markdown",
   "metadata": {},
   "source": [
    "N개의 정수가 들어있는 배열에서 이웃한 M개의 합을 계산하는 것은 디지털 필터링의 기초연산이다.\n",
    "\n",
    "M개의 합이 가장 큰 경우와 가장 작은 경우의 차이를 출력하는 프로그램을 작성하시오."
   ]
  },
  {
   "cell_type": "code",
   "execution_count": null,
   "metadata": {},
   "outputs": [],
   "source": [
    "T = int(input())                                   \n",
    "for ind in range(T):                                                        \n",
    "    n, count = map(int, input().split())           \n",
    "    lst = list(map(int, input().split()))          \n",
    "    lst2 = [0]*(n-count+1)                         \n",
    "    for i in range(n-count+1):                                                  \n",
    "        sum_value = 0                              \n",
    "        for j in range(i, i+count):                \n",
    "            sum_value += lst[j]                    \n",
    "        lst2[i] = sum_value                                                     \n",
    "    max_value = max(lst2)                          \n",
    "    min_value = min(lst2)                                        \n",
    "    print(f'#{ind+1} {max_value - min_value}')"
   ]
  },
  {
   "cell_type": "code",
   "execution_count": null,
   "metadata": {},
   "outputs": [],
   "source": [
    "# 입력\n",
    "'''\n",
    "3\n",
    "10 3\n",
    "1 2 3 4 5 6 7 8 9 10\n",
    "10 5\n",
    "6262 6004 1801 7660 7919 1280 525 9798 5134 1821 \n",
    "20 19\n",
    "3266 9419 3087 9001 9321 1341 7379 6236 5795 8910 2990 2152 2249 4059 1394 6871 4911 3648 1969 2176\n",
    "'''\n",
    "# 출력\n",
    "'''\n",
    "#1 21\n",
    "#2 11088\n",
    "#3 1090\n",
    "'''"
   ]
  }
 ],
 "metadata": {
  "kernelspec": {
   "display_name": "Python 3",
   "language": "python",
   "name": "python3"
  },
  "language_info": {
   "codemirror_mode": {
    "name": "ipython",
    "version": 3
   },
   "file_extension": ".py",
   "mimetype": "text/x-python",
   "name": "python",
   "nbconvert_exporter": "python",
   "pygments_lexer": "ipython3",
   "version": "3.9.13"
  }
 },
 "nbformat": 4,
 "nbformat_minor": 2
}
