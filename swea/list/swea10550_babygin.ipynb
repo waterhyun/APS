{
 "cells": [
  {
   "cell_type": "markdown",
   "metadata": {},
   "source": [
    "연습문제2 : Baby-gin (완전검색 그리디) D1\n"
   ]
  },
  {
   "cell_type": "code",
   "execution_count": null,
   "metadata": {},
   "outputs": [],
   "source": [
    "tc = int(input())\n",
    "for ind in range(1, tc+1):\n",
    "    number = list(map(int, input()))\n",
    "    counts = [0]*10\n",
    "    for x in number:\n",
    "        counts[x] += 1\n",
    " \n",
    "    t = r = 0\n",
    "    i = 1\n",
    "    while i < 10:\n",
    "        if counts[i] >= 3: # triple 조사 후 데이터 삭제\n",
    "            counts[i] -= 3\n",
    "            t += 1\n",
    "            continue\n",
    " \n",
    "        if i <= 7:\n",
    "            if counts[i] >= 1 and counts[i+1] >= 1 and counts[i+2] >= 1: # run 조사 후 데이터 삭제\n",
    "                counts[i] -= 1\n",
    "                counts[i+1] -= 1\n",
    "                counts[i+2] -= 1\n",
    "                r += 1\n",
    "                continue\n",
    "         \n",
    "        i += 1\n",
    "     \n",
    "    if r + t == 2:\n",
    "        print(f'#{ind} Baby Gin')\n",
    "    else:\n",
    "        print(f'#{ind} Lose')"
   ]
  },
  {
   "cell_type": "code",
   "execution_count": null,
   "metadata": {},
   "outputs": [],
   "source": [
    "# 입력\n",
    "'''\n",
    "3\n",
    "333456\n",
    "444456\n",
    "644544\n",
    "'''\n",
    "# 출력\n",
    "'''\n",
    "#1 Baby Gin\n",
    "#2 Baby Gin\n",
    "#3 Baby Gin\n",
    "'''"
   ]
  }
 ],
 "metadata": {
  "language_info": {
   "name": "python"
  }
 },
 "nbformat": 4,
 "nbformat_minor": 2
}
