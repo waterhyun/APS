{
 "cells": [
  {
   "cell_type": "markdown",
   "metadata": {},
   "source": [
    "4834. 1일차 - 숫자 카드 (제출용) D2"
   ]
  },
  {
   "cell_type": "markdown",
   "metadata": {},
   "source": [
    "0에서 9까지 숫자가 적힌 N장의 카드가 주어진다.\n",
    "\n",
    "가장 많은 카드에 적힌 숫자와 카드가 몇 장인지 출력하는 프로그램을 만드시오. 카드 장수가 같을 때는 적힌 숫자가 큰 쪽을 출력한다."
   ]
  },
  {
   "cell_type": "code",
   "execution_count": null,
   "metadata": {},
   "outputs": [],
   "source": [
    "tc = int(input())\n",
    "for ind in range(tc):\n",
    "    num = int(input())\n",
    "    number = input()\n",
    "    cnt_dict = dict()\n",
    "    for n in number:\n",
    "        if n not in cnt_dict.keys():\n",
    "            cnt_dict.update({n:1})\n",
    "        else:\n",
    "            cnt_dict[n]+=1\n",
    " \n",
    "    max_v = max(cnt_dict.values())\n",
    "    if max_v == 1:\n",
    "        max_i = max(cnt_dict.keys())\n",
    "    else:\n",
    "        max_i = max(cnt_dict, key = cnt_dict.get)\n",
    " \n",
    "    print(f'#{ind+1} {max_i} {max_v}')"
   ]
  },
  {
   "cell_type": "code",
   "execution_count": 1,
   "metadata": {},
   "outputs": [
    {
     "name": "stdout",
     "output_type": "stream",
     "text": [
      "#1 9 2\n",
      "#2 8 1\n",
      "#3 7 3\n"
     ]
    }
   ],
   "source": [
    "tc = int(input())\n",
    " \n",
    "for ind in range(1, tc+1):\n",
    "    n = int(input())\n",
    "    number = list(map(int, input()))\n",
    "    counts = [0]*10\n",
    "     \n",
    "    for x in number:\n",
    "        counts[x] += 1\n",
    "         \n",
    "    max_num =0\n",
    "    max_cnt = counts[0]\n",
    "     \n",
    "    for i in range(1, 10):\n",
    "        if counts[i] >= max_cnt:\n",
    "            max_num = i\n",
    "            max_cnt = counts[i]\n",
    "    print(f'#{ind} {max_num} {max_cnt}')"
   ]
  },
  {
   "cell_type": "code",
   "execution_count": null,
   "metadata": {},
   "outputs": [],
   "source": [
    "# 입력\n",
    "'''\n",
    "3\n",
    "5\n",
    "49679\n",
    "5\n",
    "08271\n",
    "10\n",
    "7797946543\n",
    "'''\n",
    "# 출력\n",
    "'''\n",
    "#1 9 2\n",
    "#2 8 1\n",
    "#3 7 3\n",
    "'''"
   ]
  }
 ],
 "metadata": {
  "kernelspec": {
   "display_name": "Python 3",
   "language": "python",
   "name": "python3"
  },
  "language_info": {
   "codemirror_mode": {
    "name": "ipython",
    "version": 3
   },
   "file_extension": ".py",
   "mimetype": "text/x-python",
   "name": "python",
   "nbconvert_exporter": "python",
   "pygments_lexer": "ipython3",
   "version": "3.9.13"
  }
 },
 "nbformat": 4,
 "nbformat_minor": 2
}
