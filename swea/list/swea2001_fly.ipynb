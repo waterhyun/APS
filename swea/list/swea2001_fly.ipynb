{
 "cells": [
  {
   "cell_type": "markdown",
   "metadata": {},
   "source": [
    "파리 퇴치   \n",
    "난이도 : D2"
   ]
  },
  {
   "cell_type": "markdown",
   "metadata": {},
   "source": [
    "N x N 배열 안의 숫자는 해당 영역에 존재하는 파리의 개수를 의미한다.\n",
    "\n",
    "M x M 크기의 파리채를 한 번 내리쳐 최대한 많은 파리를 죽이고자 한다.\n",
    "\n",
    "죽은 파리의 개수를 구하라!"
   ]
  },
  {
   "cell_type": "code",
   "execution_count": 2,
   "metadata": {},
   "outputs": [
    {
     "name": "stdout",
     "output_type": "stream",
     "text": [
      "#1 49\n"
     ]
    }
   ],
   "source": [
    "# 테스트 케이스\n",
    " \n",
    "tc = int(input())\n",
    " \n",
    "# 파리채로 잡을 수 있는 파리 수 합계 구하는 함수\n",
    "def sum_sub(arr, i, j ,m):\n",
    "    score = 0\n",
    "    for x in range(i, i+m):\n",
    "        for y in range(j, j+m):\n",
    "            score += arr[x][y]\n",
    "    return score\n",
    "# sum(arr[x][y] for x in range(i, i + m) for y in range(j, j + m))\n",
    " \n",
    "for ind in range(1, tc+1):\n",
    "    n, m = map(int, input().split())\n",
    "    arr = [list(map(int, input().split())) for _ in range(n)]\n",
    "    max_value = 0\n",
    "    # 행 순회\n",
    "    for i in range(len(arr)-m+1):\n",
    "        # 열 순회\n",
    "        for j in range(len(arr[i])-m+1):\n",
    "            score = sum_sub(arr, i, j, m)\n",
    "            # 가장 큰 값이 나오면 max_value로 지정\n",
    "            max_value = max(score, max_value)\n",
    " \n",
    "    print(f'#{ind} {max_value}')"
   ]
  },
  {
   "cell_type": "code",
   "execution_count": null,
   "metadata": {},
   "outputs": [],
   "source": [
    "# 입력\n",
    "'''\n",
    "1\n",
    "5 2\n",
    "1 3 3 6 7\n",
    "8 13 9 12 8\n",
    "4 16 11 12 6\n",
    "2 4 1 23 2\n",
    "9 13 4 7 3\n",
    "'''"
   ]
  }
 ],
 "metadata": {
  "kernelspec": {
   "display_name": "Python 3",
   "language": "python",
   "name": "python3"
  },
  "language_info": {
   "codemirror_mode": {
    "name": "ipython",
    "version": 3
   },
   "file_extension": ".py",
   "mimetype": "text/x-python",
   "name": "python",
   "nbconvert_exporter": "python",
   "pygments_lexer": "ipython3",
   "version": "3.9.13"
  }
 },
 "nbformat": 4,
 "nbformat_minor": 2
}
