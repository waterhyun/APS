{
 "cells": [
  {
   "cell_type": "markdown",
   "metadata": {},
   "source": [
    "4837. [파이썬 S/W 문제해결 기본] 2일차 - 부분집합의 합 (제출용) D2"
   ]
  },
  {
   "cell_type": "markdown",
   "metadata": {},
   "source": [
    "1부터 12까지의 숫자를 원소로 가진 집합 A가 있다. 집합 A의 부분 집합 중 N개의 원소를 갖고 있고, 원소의 합이 K인 부분집합의 개수를 출력하는 프로그램을 작성하시오.\n",
    "\n",
    "해당하는 부분집합이 없는 경우 0을 출력한다. 모든 부분 집합을 만들어 답을 찾아도 된다.\n",
    " \n",
    "\n",
    "예를 들어 N = 3, K = 6 경우, 부분집합은 { 1, 2, 3 } 경우 1가지가 존재한다."
   ]
  },
  {
   "cell_type": "code",
   "execution_count": 1,
   "metadata": {},
   "outputs": [
    {
     "name": "stdout",
     "output_type": "stream",
     "text": [
      "#1 1\n",
      "#2 1\n",
      "#3 0\n"
     ]
    }
   ],
   "source": [
    "# 1~12까지의 모든 부분 집합 구하기\n",
    "arr = list(range(1, 13))\n",
    "n = len(arr)\n",
    "sub_arr = [0]*(2**12)\n",
    "for i in range(1<<n):\n",
    "    sub_arr[i] = [arr[j] for j in range(n) if i & (1<<j)]\n",
    " \n",
    "tc = int(input())\n",
    "for ind in range(1, tc+1):\n",
    "    n, k = map(int, input().split())\n",
    " \n",
    "    # 길이가 N인 부분집합 중 합이 K인 경우를 세기\n",
    "    cnt = 0\n",
    "    for i in range(len(sub_arr)):\n",
    "        if len(sub_arr[i]) == n:\n",
    "            count_t = 0\n",
    "            for j in range(n):\n",
    "                count_t += sub_arr[i][j]\n",
    "            if count_t == k:\n",
    "                cnt += 1\n",
    " \n",
    "    print(f'#{ind} {cnt}')"
   ]
  },
  {
   "cell_type": "code",
   "execution_count": null,
   "metadata": {},
   "outputs": [],
   "source": [
    "# 입력\n",
    "'''\n",
    "3\n",
    "3 6\n",
    "5 15\n",
    "5 10\n",
    "'''\n",
    "\n",
    "# 출력\n",
    "'''\n",
    "#1 1\n",
    "#2 1\n",
    "#3 0\n",
    "'''"
   ]
  }
 ],
 "metadata": {
  "kernelspec": {
   "display_name": "Python 3",
   "language": "python",
   "name": "python3"
  },
  "language_info": {
   "codemirror_mode": {
    "name": "ipython",
    "version": 3
   },
   "file_extension": ".py",
   "mimetype": "text/x-python",
   "name": "python",
   "nbconvert_exporter": "python",
   "pygments_lexer": "ipython3",
   "version": "3.9.13"
  }
 },
 "nbformat": 4,
 "nbformat_minor": 2
}
