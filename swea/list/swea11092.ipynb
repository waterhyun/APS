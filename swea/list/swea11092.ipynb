{
 "cells": [
  {
   "cell_type": "markdown",
   "metadata": {},
   "source": [
    "최대 최소의 간격 D1"
   ]
  },
  {
   "cell_type": "markdown",
   "metadata": {},
   "source": [
    "[최대값과 최소값]\n",
    "\n",
    "N개의 양의 정수가 첫번째부터 N번째까지 주어진다. 최대값의 위치와 최소값의 위치의 차이를 절대값으로 출력 하시오. 단, 가장 작은 수가 여러 개이면 먼저 나오는 위치로 하고 가장 큰 수가 여러 개이면 마지막으로 나오는 위치로 한다.\n",
    "예를 들어, {1, 1, 2, 3, 3} 가 주어지면 최대값의 위치는 5이고, 최소값의 위치는 1이다. 따라서 두 값 차이의 절대값은 4이다."
   ]
  },
  {
   "cell_type": "code",
   "execution_count": 1,
   "metadata": {},
   "outputs": [
    {
     "name": "stdout",
     "output_type": "stream",
     "text": [
      "#1 4\n",
      "#2 6\n",
      "#3 18\n"
     ]
    }
   ],
   "source": [
    "tc = int(input())\n",
    "for ind in range(1, tc+1):\n",
    "    n = int(input())\n",
    "    lst = list(map(int, input().split()))\n",
    "    min_i = max_i = 0\n",
    "    min_v = 10\n",
    "    max_v = 1\n",
    "    for i in range(len(lst)):\n",
    "        if lst[i] < min_v:\n",
    "            min_v = lst[i]\n",
    "            min_i = i\n",
    "        if lst[i] >= max_v:\n",
    "            max_v = lst[i]\n",
    "            max_i = i\n",
    "    print(f'#{ind} {abs(max_i - min_i)}')"
   ]
  },
  {
   "cell_type": "code",
   "execution_count": null,
   "metadata": {},
   "outputs": [],
   "source": [
    "# 입력\n",
    "'''\n",
    "3\n",
    "5\n",
    "1 1 2 3 3\n",
    "10\n",
    "3 10 5 5 8 3 9 1 3 3 \n",
    "20\n",
    "4 1 6 7 9 4 1 4 8 4 1 6 5 3 1 4 3 1 10 10 \n",
    "'''\n",
    "# 출력\n",
    "'''\n",
    "#1 4\n",
    "#2 6\n",
    "#3 18\n",
    "'''\n"
   ]
  }
 ],
 "metadata": {
  "kernelspec": {
   "display_name": "Python 3",
   "language": "python",
   "name": "python3"
  },
  "language_info": {
   "codemirror_mode": {
    "name": "ipython",
    "version": 3
   },
   "file_extension": ".py",
   "mimetype": "text/x-python",
   "name": "python",
   "nbconvert_exporter": "python",
   "pygments_lexer": "ipython3",
   "version": "3.9.13"
  }
 },
 "nbformat": 4,
 "nbformat_minor": 2
}
