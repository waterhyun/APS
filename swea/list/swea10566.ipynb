{
 "cells": [
  {
   "cell_type": "markdown",
   "metadata": {},
   "source": [
    "4831. 1일차 - 전기버스 (제출용) D3"
   ]
  },
  {
   "cell_type": "code",
   "execution_count": null,
   "metadata": {},
   "outputs": [],
   "source": [
    "tc = int(input())\n",
    "for ind in range(1, tc+1):\n",
    "    k, n, m = map(int, input().split())\n",
    "    lst = list(map(int, input().split()))\n",
    "    charge = [0]*(n+1)\n",
    " \n",
    "    for i in lst: charge[i] = 1 # 충전소가 있으면 1, 없으면 0\n",
    " \n",
    "    cnt = 0 # 충전 횟수\n",
    "    me = 0 # 내 위치\n",
    "     \n",
    "    while me < n-k:\n",
    "        step = k # 갈 수 있는 스텝\n",
    "        for i in range(me + k, me, -1):\n",
    "            if charge[i] == 1:\n",
    "                cnt += 1 # 충전 +=1\n",
    "                me = i # 위치 갱신 \n",
    "                break\n",
    "            step -= 1 # 스텝 -1\n",
    "        if step == 0: # 내가 갈 수 있는 스텝을 모두 소진한 경우 = 종점에 도착하지 못하는 경우\n",
    "            cnt = 0\n",
    "            break\n",
    " \n",
    "    print(f'#{ind} {cnt}')"
   ]
  },
  {
   "cell_type": "code",
   "execution_count": null,
   "metadata": {},
   "outputs": [],
   "source": [
    "# 입력\n",
    "'''\n",
    "3\n",
    "3 10 5\n",
    "1 3 5 7 9\n",
    "3 10 5\n",
    "1 3 7 8 9\n",
    "5 20 5\n",
    "4 7 9 14 17\n",
    "'''\n",
    "# 출력\n",
    "'''\n",
    "#1 3\n",
    "#2 0\n",
    "#3 4\n",
    "'''"
   ]
  }
 ],
 "metadata": {
  "language_info": {
   "name": "python"
  }
 },
 "nbformat": 4,
 "nbformat_minor": 2
}
