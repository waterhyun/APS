{
 "cells": [
  {
   "cell_type": "markdown",
   "metadata": {},
   "source": [
    "달팽이 숫자  \n",
    "난이도 : D2"
   ]
  },
  {
   "cell_type": "markdown",
   "metadata": {},
   "source": [
    "달팽이는 1부터 N*N까지의 숫자가 시계방향으로 이루어져 있다.\n",
    "\n",
    "다음과 같이 정수 N을 입력 받아 N크기의 달팽이를 출력하시오."
   ]
  },
  {
   "cell_type": "code",
   "execution_count": 3,
   "metadata": {},
   "outputs": [
    {
     "name": "stdout",
     "output_type": "stream",
     "text": [
      "#1\n",
      "1 2 3\n",
      "8 9 4\n",
      "7 6 5\n",
      "#2\n",
      "1 2 3 4\n",
      "12 13 14 5\n",
      "11 16 15 6\n",
      "10 9 8 7\n"
     ]
    }
   ],
   "source": [
    "def snail(n):\n",
    "    snail_map = [[0]*n for _ in range(n)]\n",
    " \n",
    "    x, y = 0, -1\n",
    "    steps = 0\n",
    "    length = n*n\n",
    "    while steps < length:\n",
    "        # right\n",
    "        for _ in range(n):\n",
    "            y += 1\n",
    "            steps += 1\n",
    "            snail_map[x][y] = steps\n",
    " \n",
    "        # down\n",
    "        for _ in range(n-1):\n",
    "            x += 1\n",
    "            steps += 1\n",
    "            snail_map[x][y] = steps\n",
    " \n",
    " \n",
    "        # left\n",
    "        for _ in range(n-1):\n",
    "            y -= 1\n",
    "            steps += 1\n",
    "            snail_map[x][y] = steps\n",
    " \n",
    "        # up\n",
    "        for _ in range(n-2):\n",
    "            x -= 1\n",
    "            steps += 1\n",
    "            snail_map[x][y] = steps\n",
    " \n",
    "        n -= 2\n",
    " \n",
    "    return snail_map\n",
    " \n",
    "tc = int(input())\n",
    "for t in range(1, tc+1):\n",
    "    n = int(input())\n",
    "    snail_map = snail(n)\n",
    "    print(f'#{t}')\n",
    "    for i in range(n):\n",
    "        print(f'{\" \".join(map(str, snail_map[i]))}')"
   ]
  },
  {
   "cell_type": "code",
   "execution_count": null,
   "metadata": {},
   "outputs": [],
   "source": [
    "# 입력\n",
    "'''\n",
    "2    \n",
    "3   \n",
    "4     \n",
    "'''\n",
    "\n",
    "# 출력\n",
    "'''\n",
    "#1\n",
    "1 2 3\n",
    "8 9 4\n",
    "7 6 5\n",
    "#2\n",
    "1 2 3 4\n",
    "12 13 14 5\n",
    "11 16 15 6\n",
    "10 9 8 7\n",
    "'''"
   ]
  }
 ],
 "metadata": {
  "kernelspec": {
   "display_name": "Python 3",
   "language": "python",
   "name": "python3"
  },
  "language_info": {
   "codemirror_mode": {
    "name": "ipython",
    "version": 3
   },
   "file_extension": ".py",
   "mimetype": "text/x-python",
   "name": "python",
   "nbconvert_exporter": "python",
   "pygments_lexer": "ipython3",
   "version": "3.9.13"
  }
 },
 "nbformat": 4,
 "nbformat_minor": 2
}
