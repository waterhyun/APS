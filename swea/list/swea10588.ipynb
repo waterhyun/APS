{
 "cells": [
  {
   "cell_type": "markdown",
   "metadata": {},
   "source": [
    "4836. 색칠하기 (제출용)  \n",
    "난이도 : D1"
   ]
  },
  {
   "cell_type": "markdown",
   "metadata": {},
   "source": [
    "그림과 같이 인덱스가 있는 10x10 격자에 빨간색과 파란색을 칠하려고 한다.\n",
    "\n",
    "N개의 영역에 대해 왼쪽 위와 오른쪽 아래 모서리 인덱스, 칠할 색상이 주어질 때, 칠이 끝난 후 색이 겹쳐 보라색이 된 칸 수를 구하는 프로그램을 만드시오.\n",
    "\n",
    "주어진 정보에서 같은 색인 영역은 겹치지 않는다"
   ]
  },
  {
   "cell_type": "code",
   "execution_count": 1,
   "metadata": {},
   "outputs": [
    {
     "name": "stdout",
     "output_type": "stream",
     "text": [
      "#1 4\n",
      "#2 5\n",
      "#3 7\n"
     ]
    }
   ],
   "source": [
    "# 테스트 케이스\n",
    "tc = int(input())\n",
    " \n",
    "for ind in range(1, tc+1):\n",
    "    # 격자 생성\n",
    "    arr = [[0]*10 for _ in range(10)]\n",
    "     \n",
    "    # x1, x2, y1, y2, c = [x1, x2]부터 [y1, y2]까지 c=1 빨강\n",
    "    # x2, x2, y2, y2, c = [x1, x2]부터 [y1, y2]까지 c=2 파랑\n",
    "     \n",
    "    case = int(input())\n",
    "    cnt = 0\n",
    "    for _ in range(case):\n",
    "        x1, x2, y1, y2, c = map(int, input().split())\n",
    "        # 행 순회\n",
    "        for x in range(x1, y1+1):\n",
    "            # 열 순회\n",
    "            for y in range(x2, y2+1):\n",
    "                # 0 이면 색깔 칠하기\n",
    "                if arr[x][y] == 0:\n",
    "                    arr[x][y] = c\n",
    "                # 칠 하려는 색깔과 다르면 보라색\n",
    "                elif arr[x][y] != c:\n",
    "                    cnt += 1\n",
    "     \n",
    "    print(f'#{ind} {cnt}')"
   ]
  },
  {
   "cell_type": "code",
   "execution_count": null,
   "metadata": {},
   "outputs": [],
   "source": [
    "# 입력\n",
    "'''\n",
    "3\n",
    "2\n",
    "2 2 4 4 1\n",
    "3 3 6 6 2\n",
    "3\n",
    "1 2 3 3 1\n",
    "3 6 6 8 1\n",
    "2 3 5 6 2\n",
    "3\n",
    "1 4 8 5 1\n",
    "1 8 3 9 1\n",
    "3 2 5 8 2\n",
    "'''\n",
    "# 출력\n",
    "'''\n",
    "#1 4\n",
    "#2 5\n",
    "#3 7\n",
    "'''"
   ]
  }
 ],
 "metadata": {
  "kernelspec": {
   "display_name": "Python 3",
   "language": "python",
   "name": "python3"
  },
  "language_info": {
   "codemirror_mode": {
    "name": "ipython",
    "version": 3
   },
   "file_extension": ".py",
   "mimetype": "text/x-python",
   "name": "python",
   "nbconvert_exporter": "python",
   "pygments_lexer": "ipython3",
   "version": "3.9.13"
  }
 },
 "nbformat": 4,
 "nbformat_minor": 2
}
