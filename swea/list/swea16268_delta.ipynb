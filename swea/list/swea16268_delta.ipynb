{
 "cells": [
  {
   "cell_type": "markdown",
   "metadata": {},
   "source": [
    "풍선팡2 D2"
   ]
  },
  {
   "cell_type": "markdown",
   "metadata": {},
   "source": [
    "종이 꽃가루가 들어있는 풍선이 NxM 크기의 격자판에 붙어있는데, 어떤 풍선을 터뜨리면 상하좌우의 풍선이 추가로 터진다고 한다.\n",
    "\n",
    "다음의 경우 가운데 풍선을 터뜨리면 상하좌우의 풍선이 추가로 1개씩 터지면서 총 5개의 꽃가루가 날리게 된다."
   ]
  },
  {
   "cell_type": "code",
   "execution_count": null,
   "metadata": {},
   "outputs": [],
   "source": [
    "# 테스트 케이스\n",
    "tc = int(input())\n",
    " \n",
    "for ind in range(1, tc+1):\n",
    "    n, m = map(int, input().split())\n",
    "    arr = [[0]*(m+2) for _ in range(n+2)] # 격자판 생성\n",
    "    # 격자판 주변에 0으로 1줄씩 만들어줌\n",
    "    for i in range(1,n+1):\n",
    "        arr[i] = [0] + list(map(int, input().split())) + [0]\n",
    " \n",
    "    max_value = 0\n",
    "    for i in range(1, len(arr)-1):\n",
    "        for j in range(1, len(arr[i])-1):\n",
    "            # 현재 위치 + 오른쪽 + 아래 + 왼쪽 + 위쪽 합산\n",
    "            score = arr[i][j] + arr[i][j+1] + arr[i+1][j] + arr[i][j-1] + arr[i-1][j]\n",
    "            max_value = max(score, max_value)\n",
    " \n",
    " \n",
    "    print(f'#{ind} {max_value}')"
   ]
  },
  {
   "cell_type": "code",
   "execution_count": 1,
   "metadata": {},
   "outputs": [
    {
     "name": "stdout",
     "output_type": "stream",
     "text": [
      "#1 8\n",
      "#2 16\n",
      "#3 17\n"
     ]
    }
   ],
   "source": [
    "# 테스트 케이스\n",
    "tc = int(input())\n",
    "for ind in range(1, tc + 1):\n",
    "    n, m = map(int, input().split())\n",
    "    arr = [list(map(int, input().split())) for _ in range(n)]\n",
    " \n",
    "    # Right, Down, Left, Up\n",
    "    di = [0, 1, 0, -1]  # 행\n",
    "    dj = [1, 0, -1, 0]  # 열\n",
    " \n",
    "    max_value = 0\n",
    "    for i in range(n):\n",
    "        for j in range(m):\n",
    "            score = arr[i][j]\n",
    "            for k in range(4):\n",
    "                ni = i + di[k]\n",
    "                nj = j + dj[k]\n",
    "                if 0 <= ni < n and 0 <= nj < m:  # 범위 내 있으면\n",
    "                    score += arr[ni][nj]  # 추가\n",
    "            if max_value < score:\n",
    "                max_value = score\n",
    " \n",
    "    print(f'#{ind} {max_value}')"
   ]
  },
  {
   "cell_type": "code",
   "execution_count": null,
   "metadata": {},
   "outputs": [],
   "source": [
    "# 입력\n",
    "'''\n",
    "3\n",
    "3 5\n",
    "2 1 1 2 2 \n",
    "2 2 1 2 2 \n",
    "2 2 1 1 2 \n",
    "5 5\n",
    "3 4 1 2 3 \n",
    "3 4 1 3 2 \n",
    "2 3 2 4 1 \n",
    "1 4 4 1 3 \n",
    "2 2 3 4 4 \n",
    "5 8\n",
    "1 3 4 4 4 4 3 3 \n",
    "4 1 2 4 3 1 4 4 \n",
    "4 1 4 4 1 4 2 1 \n",
    "3 2 4 2 1 1 2 1 \n",
    "4 4 1 4 4 2 2 2\n",
    "'''\n",
    "\n",
    "# 출력\n",
    "'''\n",
    "#1 8\n",
    "#2 16\n",
    "#3 17\n",
    "'''"
   ]
  }
 ],
 "metadata": {
  "kernelspec": {
   "display_name": "Python 3",
   "language": "python",
   "name": "python3"
  },
  "language_info": {
   "codemirror_mode": {
    "name": "ipython",
    "version": 3
   },
   "file_extension": ".py",
   "mimetype": "text/x-python",
   "name": "python",
   "nbconvert_exporter": "python",
   "pygments_lexer": "ipython3",
   "version": "3.9.13"
  }
 },
 "nbformat": 4,
 "nbformat_minor": 2
}
